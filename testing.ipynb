{
 "cells": [
  {
   "cell_type": "code",
   "execution_count": 1,
   "metadata": {},
   "outputs": [],
   "source": [
    "import pandas as pd \n",
    "import numpy as np\n",
    "from pathlib import Path\n",
    "from openpyxl import load_workbook"
   ]
  },
  {
   "cell_type": "code",
   "execution_count": 5,
   "metadata": {},
   "outputs": [],
   "source": [
    "files_dir = Path.cwd() / \"Excel_Files\""
   ]
  },
  {
   "cell_type": "code",
   "execution_count": 18,
   "metadata": {},
   "outputs": [],
   "source": [
    "list_of_df =[]\n",
    "for path in list(files_dir.rglob(\"*.xls*\")):\n",
    "    df = pd.read_excel(path)\n",
    "    list_of_df.append(df)"
   ]
  },
  {
   "cell_type": "code",
   "execution_count": 19,
   "metadata": {},
   "outputs": [],
   "source": [
    "df_all = pd.concat(list_of_df)"
   ]
  },
  {
   "cell_type": "code",
   "execution_count": 22,
   "metadata": {},
   "outputs": [
    {
     "data": {
      "text/plain": [
       "(2237, 5)"
      ]
     },
     "execution_count": 22,
     "metadata": {},
     "output_type": "execute_result"
    }
   ],
   "source": [
    "df_all.shape"
   ]
  },
  {
   "cell_type": "code",
   "execution_count": 25,
   "metadata": {},
   "outputs": [],
   "source": [
    "output_dir = Path.cwd() / \"Output\"\n",
    "output_dir.mkdir(exist_ok=True)\n",
    "df.to_excel(output_dir / \"files_merged.xlsx\" ,  index=False)"
   ]
  },
  {
   "cell_type": "code",
   "execution_count": 35,
   "metadata": {},
   "outputs": [],
   "source": [
    "for path in list(files_dir.rglob(\"*.xls*\")):\n",
    "    wb = load_workbook(filename=path)\n",
    "    ws = wb.worksheets[0] # or wb[\"Sheet1\"]\n",
    "    ws[\"A1\"] = \"Key\"\n",
    "    output_with_new_column_name = Path.cwd() / \"output_new_column_name\"\n",
    "    output_with_new_column_name.mkdir(exist_ok=True)\n",
    "    wb.save(output_with_new_column_name / path.name)"
   ]
  },
  {
   "cell_type": "code",
   "execution_count": 32,
   "metadata": {},
   "outputs": [],
   "source": [
    "for path in list(files_dir.rglob(\"*.xls*\")):\n",
    "    df = pd.read_excel(path)\n",
    "    df[\"new_column\"] = pd.to_datetime(\"today\")\n",
    "    output_additional_column = Path.cwd() / \"output_additional_column\"\n",
    "    output_additional_column.mkdir(exist_ok=True)\n",
    "    df.to_excel(output_additional_column / path.name, index=False)"
   ]
  }
 ],
 "metadata": {
  "interpreter": {
   "hash": "118f4224846bb6d6b3cf961a7d87520ae4b4bb7507347579a71830f86176a45b"
  },
  "kernelspec": {
   "display_name": "Python 3.9.13 64-bit (windows store)",
   "language": "python",
   "name": "python3"
  },
  "language_info": {
   "codemirror_mode": {
    "name": "ipython",
    "version": 3
   },
   "file_extension": ".py",
   "mimetype": "text/x-python",
   "name": "python",
   "nbconvert_exporter": "python",
   "pygments_lexer": "ipython3",
   "version": "3.9.13"
  },
  "orig_nbformat": 4
 },
 "nbformat": 4,
 "nbformat_minor": 2
}
